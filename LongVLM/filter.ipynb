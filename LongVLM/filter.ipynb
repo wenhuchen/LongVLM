{
 "cells": [
  {
   "cell_type": "code",
   "execution_count": 1,
   "metadata": {},
   "outputs": [
    {
     "name": "stdout",
     "output_type": "stream",
     "text": [
      "1812251\n"
     ]
    }
   ],
   "source": [
    "import json\n",
    "import glob\n",
    "import os\n",
    "\n",
    "images = glob.glob('/data/wenhu/V2PE/dataset/image/long_mr/train/*')\n",
    "images = [os.path.basename(image) for image in images]\n",
    "images = set(images)\n",
    "print(len(images))"
   ]
  },
  {
   "cell_type": "code",
   "execution_count": null,
   "metadata": {},
   "outputs": [],
   "source": [
    "\n",
    "with open('/data/wenhu/V2PE/dataset/train_long_mr_image_retrieval_16_32.jsonl', 'r') as f:\n",
    "    for line in f:\n",
    "        entry = json.loads(line)\n",
    "        matched = set(entry['image']) & images\n",
    "        if len(matched) == len(entry['image']):\n",
    "            print('All found')"
   ]
  },
  {
   "cell_type": "code",
   "execution_count": 5,
   "metadata": {},
   "outputs": [],
   "source": [
    "from datasets import load_dataset\n",
    "import json\n",
    "import os\n",
    "import random\n",
    "\n",
    "dataset = load_dataset('TIGER-Lab/VisualWebInstruct', 'reference')\n",
    "\n",
    "dict_template = [\n",
    "    'Answer the above question. Conclude your final answers as a dictionary at the end of the response after ###',\n",
    "    'Think and answer the question. Conclude your final answers as a dictionary at the end of the response after ###',\n",
    "    'Think before answering the question. Conclude your final answers as a dictionary at the end of the response after ###',\n",
    "    'Please answer the question above. Conclude your final answers as a dictionary at the end of the response after ###',\n",
    "]\n",
    "\n",
    "template = [\n",
    "    'Think step by step to answer the question. Conclude your final answer at the end of the response after ###',\n",
    "    'Think very deeply to answer the question. Conclude your final answer at the end of the response after ###',\n",
    "    'Think carefully first before answering the question. Conclude your final answer at the end of the response after ###',\n",
    "    'Please think step by step and then answer the question. Conclude your final answer at the end of the response after ###',\n",
    "    'First reason and then answer the question. Conclude your final answer at the end of the response after ###',\n",
    "    'Lay out your reasoning before answering the question. Conclude your final answer at the end of the response after ###',\n",
    "]\n",
    "\n",
    "count = 0\n",
    "with open('dataset/train_visual_webinstruct.jsonl', 'w') as f:\n",
    "    for d in dataset['train']:\n",
    "        image = d['image']\n",
    "        if not os.path.exists(f'dataset/image/visual_webinstruct/train/{d[\"idx\"]}.png'):\n",
    "            image.save(f'dataset/image/visual_webinstruct/train/{d[\"idx\"]}.png')\n",
    "\n",
    "        if len(d['short_answer']) > 50:\n",
    "            prompt = ''\n",
    "        else:\n",
    "            if '{' in d['short_answer'] or '}' in d['short_answer']:\n",
    "                prompt = random.choice(dict_template)\n",
    "            else:\n",
    "                prompt = random.choice(template)\n",
    "            d['answer'] = d['answer'] + '\\n' + '### ' + d['short_answer']\n",
    "\n",
    "        new_prompt = '<image>' + ' ' + d['question'] + '\\n' + prompt\n",
    "        new_prompt = new_prompt.strip('\\n').strip('\\n').strip('\\n').strip()\n",
    "\n",
    "        # building prompt\n",
    "        tmp = {\n",
    "            'id': count,\n",
    "            'image': [f'{d[\"idx\"]}.png'],\n",
    "            'conversations': [\n",
    "                {'from': 'human', 'value': new_prompt},\n",
    "                {'from': 'gpt', 'value': d['answer']}\n",
    "            ]\n",
    "        }\n",
    "        f.write(json.dumps(tmp) + '\\n')"
   ]
  },
  {
   "cell_type": "code",
   "execution_count": 6,
   "metadata": {},
   "outputs": [
    {
     "name": "stderr",
     "output_type": "stream",
     "text": [
      "Generating train split: 100%|██████████| 23694/23694 [00:00<00:00, 35484.26 examples/s]\n"
     ]
    }
   ],
   "source": [
    "from datasets import load_dataset\n",
    "import json\n",
    "import random\n",
    "\n",
    "dataset = load_dataset('TIGER-Lab/VisualWebInstruct', 'LongCoT')\n",
    "\n",
    "dict_template = [\n",
    "    'Think step by step to answer the question. Conclude your final answers as a dictionary at the end of the response after ###',\n",
    "    'Think very deeply to answer the question. Conclude your final answers as a dictionary at the end of the response after ###',\n",
    "    'Think carefully first before answering the question. Conclude your final answers as a dictionary at the end of the response after ###',\n",
    "    'Please think step by step and then answer the question. Conclude your final answers as a dictionary at the end of the response after ###',\n",
    "    'First reason and then answer the question. Conclude your final answers as a dictionary at the end of the response after ###',\n",
    "    'Lay out your reasoning before answering the question. Conclude your final answers as a dictionary at the end of the response after ###',\n",
    "]\n",
    "\n",
    "template = [\n",
    "    'Think step by step to answer the question. Conclude your final answer at the end of the response after ###',\n",
    "    'Think very deeply to answer the question. Conclude your final answer at the end of the response after ###',\n",
    "    'Think carefully first before answering the question. Conclude your final answer at the end of the response after ###',\n",
    "    'Please think step by step and then answer the question. Conclude your final answer at the end of the response after ###',\n",
    "    'First reason and then answer the question. Conclude your final answer at the end of the response after ###',\n",
    "    'Lay out your reasoning before answering the question. Conclude your final answer at the end of the response after ###',\n",
    "]\n",
    "\n",
    "with open('dataset/train_visual_webinstruct_long.jsonl', 'w') as f:\n",
    "    for d in dataset['train']:\n",
    "\n",
    "        if len(d['short_answer']) > 50:\n",
    "            prompt = ''\n",
    "        elif '\\\\boxed{' in d['answer']:\n",
    "            prompt = 'Think step by step to derive your answer and put it in \\\\boxed{ANSWER}.'\n",
    "        else:\n",
    "            if '{' in d['short_answer'] or '}' in d['short_answer']:\n",
    "                prompt = random.choice(dict_template)\n",
    "            else:\n",
    "                prompt = random.choice(template)\n",
    "            d['answer'] = d['answer'] + '\\n' + '### ' + d['short_answer']\n",
    "\n",
    "        if '<image>' not in d['question']:\n",
    "            new_prompt = '<image>' + ' ' + d['question'] + '\\n' + prompt\n",
    "        else:\n",
    "            new_prompt = d['question'] + '\\n' + prompt\n",
    "\n",
    "        new_prompt = new_prompt.strip('\\n').strip('\\n').strip('\\n').strip()\n",
    "\n",
    "        if len(d['answer']) > 80:\n",
    "            tmp = {\n",
    "                'id': count,\n",
    "                'image': [f'{d[\"idx\"]}.png'],\n",
    "                'conversations': [\n",
    "                    {'from': 'human', 'value': new_prompt},\n",
    "                    {'from': 'gpt', 'value': d['answer']}\n",
    "                ]\n",
    "            }\n",
    "            f.write(json.dumps(tmp) + '\\n')"
   ]
  }
 ],
 "metadata": {
  "kernelspec": {
   "display_name": "vlms",
   "language": "python",
   "name": "python3"
  },
  "language_info": {
   "codemirror_mode": {
    "name": "ipython",
    "version": 3
   },
   "file_extension": ".py",
   "mimetype": "text/x-python",
   "name": "python",
   "nbconvert_exporter": "python",
   "pygments_lexer": "ipython3",
   "version": "3.10.16"
  }
 },
 "nbformat": 4,
 "nbformat_minor": 2
}
